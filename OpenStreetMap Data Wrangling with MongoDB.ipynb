{
 "cells": [
  {
   "cell_type": "markdown",
   "metadata": {},
   "source": [
    "# OpenStreetMap Wrangling with MongoDB\n",
    "\n",
    "### Justin Rogers"
   ]
  },
  {
   "cell_type": "markdown",
   "metadata": {},
   "source": [
    "Map Area: Boulder CO, United States  \n",
    "[Boulder on OpenStreetMaps](http://www.openstreetmap.org/relation/112298)  \n",
    "[Overpass API Link for Boulder](http://overpass-api.de/api/map?bbox=-105.4142,39.9490,-105.0653,40.1099)"
   ]
  },
  {
   "cell_type": "markdown",
   "metadata": {},
   "source": [
    "### [1. Problems Encountered in the Map](#section1)\n",
    "[Street Type Inconsistencies](#section1_1)  \n",
    "[City Name Differences](#section1_2)  \n",
    "[Postal Code Problems](#section1_3)  \n",
    "### [2. Data Overview](#section2)\n",
    "### [3. Additional Ideas](#section3)"
   ]
  },
  {
   "cell_type": "markdown",
   "metadata": {},
   "source": [
    "##  <a id='section1'>1. Problems Encountered in the Map</a>"
   ]
  },
  {
   "cell_type": "markdown",
   "metadata": {},
   "source": [
    "Several problems/inconsistencies were identified in the data:\n",
    "* Street Type Inconsistencies (Avenue, ave, Ave)\n",
    "* City Name Differences (Boulder, Boulder, CO, u'Boulder, CO \\u200e')\n",
    "* Postal Code Problems (80026, 80026-2872, CO 80027)"
   ]
  },
  {
   "cell_type": "markdown",
   "metadata": {},
   "source": [
    "###  <a id='section1_1'>Street Type Inconsistencies</a>\n",
    "Many of the street names had inconsistencies with the street type naming conventions. Before export to JSON, the ends of the street names were remapped for conistency. Ex. St., st, and St. were all changed to Street"
   ]
  },
  {
   "cell_type": "markdown",
   "metadata": {},
   "source": [
    "###  <a id='section1_2'>City Name Differences</a>\n",
    "13 different city names were present in the data, but several were just inconsistent capitilizations or extra data in the field. These fields were mapped to consistent names before conversion to JSON. Ex. Boulder, Co converted to Boulder. Unfortunately, one city name, CO, was not changed as this would require looking up the individual entries to decide in which city the place actually was."
   ]
  },
  {
   "cell_type": "markdown",
   "metadata": {},
   "source": [
    "###  <a id='section1_3'>Postal Code Problems</a>\n",
    "20 different postal codes were indentified in the data. Several had the additional four digits attached to the end with a dash. These extra digits were removed before conversion to JSON. In addition, two entries were prefixed with \"CO \" which was also removed. Unfortunately, one item was simply \"CO\" which was left in for the same reason as under City Name Differences above."
   ]
  },
  {
   "cell_type": "markdown",
   "metadata": {},
   "source": [
    "## <a id='section2'>2. Data Overview</a>"
   ]
  },
  {
   "cell_type": "markdown",
   "metadata": {},
   "source": [
    "### Section showing basic dataset statistics and MongoDB queries used\n",
    "#### File sizes"
   ]
  },
  {
   "cell_type": "code",
   "execution_count": 19,
   "metadata": {
    "collapsed": false
   },
   "outputs": [
    {
     "name": "stdout",
     "output_type": "stream",
     "text": [
      "The boulder.osm file is 91.5MB\n",
      "The boulderimport.json file is 101.6MB\n"
     ]
    }
   ],
   "source": [
    "import os\n",
    "print \"The boulder.osm file is %.1fMB\" % (float(os.path.getsize('boulder.osm'))/1000000)\n",
    "print \"The boulderimport.json file is %.1fMB\" % (float(os.path.getsize('boulderimport.json'))/1000000)"
   ]
  },
  {
   "cell_type": "code",
   "execution_count": 21,
   "metadata": {
    "collapsed": true
   },
   "outputs": [],
   "source": [
    "from pymongo import MongoClient\n",
    "import pprint\n",
    "client = MongoClient(\"mongodb://localhost:27017\")\n",
    "db = client.map"
   ]
  },
  {
   "cell_type": "markdown",
   "metadata": {},
   "source": [
    "**Number of documents:**"
   ]
  },
  {
   "cell_type": "code",
   "execution_count": 22,
   "metadata": {
    "collapsed": false
   },
   "outputs": [
    {
     "data": {
      "text/plain": [
       "454451"
      ]
     },
     "execution_count": 22,
     "metadata": {},
     "output_type": "execute_result"
    }
   ],
   "source": [
    "db.boul.find().count()                                                "
   ]
  },
  {
   "cell_type": "markdown",
   "metadata": {},
   "source": [
    "**Number of nodes:**"
   ]
  },
  {
   "cell_type": "code",
   "execution_count": 23,
   "metadata": {
    "collapsed": false
   },
   "outputs": [
    {
     "data": {
      "text/plain": [
       "406569"
      ]
     },
     "execution_count": 23,
     "metadata": {},
     "output_type": "execute_result"
    }
   ],
   "source": [
    "db.boul.find({\"type\":\"node\"}).count()"
   ]
  },
  {
   "cell_type": "markdown",
   "metadata": {},
   "source": [
    "**Number of ways:**"
   ]
  },
  {
   "cell_type": "code",
   "execution_count": 24,
   "metadata": {
    "collapsed": false
   },
   "outputs": [
    {
     "data": {
      "text/plain": [
       "47854"
      ]
     },
     "execution_count": 24,
     "metadata": {},
     "output_type": "execute_result"
    }
   ],
   "source": [
    "db.boul.find({\"type\":\"way\"}).count()"
   ]
  },
  {
   "cell_type": "code",
   "execution_count": 26,
   "metadata": {
    "collapsed": false
   },
   "outputs": [
    {
     "data": {
      "text/plain": [
       "28"
      ]
     },
     "execution_count": 26,
     "metadata": {},
     "output_type": "execute_result"
    }
   ],
   "source": [
    "db.boul.find({\"type\":{ \"$nin\": [ \"way\", \"node\" ] }}).count()"
   ]
  },
  {
   "cell_type": "code",
   "execution_count": 27,
   "metadata": {
    "collapsed": false
   },
   "outputs": [
    {
     "name": "stdout",
     "output_type": "stream",
     "text": [
      "{u'_id': ObjectId('5983f00b5f52466abe6ec834'),\n",
      " u'created': {u'changeset': u'10469907',\n",
      "              u'timestamp': u'2012-01-22T21:11:49Z',\n",
      "              u'uid': u'369357',\n",
      "              u'user': u'Berjoh',\n",
      "              u'version': u'4'},\n",
      " u'id': u'403656196',\n",
      " u'pos': [39.9812146, -105.142549],\n",
      " u'type': u'Crossing'}\n",
      "{u'_id': ObjectId('5983f00b5f52466abe6ecd3b'),\n",
      " u'created': {u'changeset': u'10851158',\n",
      "              u'timestamp': u'2012-03-02T18:45:59Z',\n",
      "              u'uid': u'369357',\n",
      "              u'user': u'Berjoh',\n",
      "              u'version': u'5'},\n",
      " u'id': u'415747112',\n",
      " u'name': u\"O'Reilly Auto Parts\",\n",
      " u'pos': [39.9876295, -105.0909751],\n",
      " u'shop': u'car_parts',\n",
      " u'type': u'auto_shop'}\n",
      "{u'_id': ObjectId('5983f00b5f52466abe6ecf99'),\n",
      " u'created': {u'changeset': u'10469907',\n",
      "              u'timestamp': u'2012-01-22T21:11:53Z',\n",
      "              u'uid': u'369357',\n",
      "              u'user': u'Berjoh',\n",
      "              u'version': u'5'},\n",
      " u'id': u'417619916',\n",
      " u'pos': [39.9810634, -105.1423173],\n",
      " u'type': u'Crossing'}\n",
      "{u'_id': ObjectId('5983f00b5f52466abe6ed5ef'),\n",
      " u'amenity': u'arts_centre',\n",
      " u'created': {u'changeset': u'1488991',\n",
      "              u'timestamp': u'2009-06-11T18:20:07Z',\n",
      "              u'uid': u'104996',\n",
      "              u'user': u'MetroStateMan',\n",
      "              u'version': u'1'},\n",
      " u'id': u'418824028',\n",
      " u'pos': [40.0022481, -105.0900646],\n",
      " u'type': u'Outdoor Amphetheather'}\n",
      "{u'_id': ObjectId('5983f00b5f52466abe6ed75c'),\n",
      " u'created': {u'changeset': u'10695495',\n",
      "              u'timestamp': u'2012-02-15T19:21:59Z',\n",
      "              u'uid': u'369357',\n",
      "              u'user': u'Berjoh',\n",
      "              u'version': u'2'},\n",
      " u'id': u'419483391',\n",
      " u'operator': u'Smoker Friendly',\n",
      " u'pos': [39.9886959, -105.0911827],\n",
      " u'shop': u'convenience',\n",
      " u'type': u'Tabacco Products'}\n",
      "{u'_id': ObjectId('5983f00d5f52466abe6f840c'),\n",
      " u'address': {u'city': u'Lafayette',\n",
      "              u'postcode': u'80026',\n",
      "              u'street': u'Centaur Village Drive',\n",
      "              u'suite': u'8'},\n",
      " u'amenity': u'doctors',\n",
      " u'created': {u'changeset': u'7288719',\n",
      "              u'timestamp': u'2011-02-14T19:23:25Z',\n",
      "              u'uid': u'70696',\n",
      "              u'user': u'xybot',\n",
      "              u'version': u'3'},\n",
      " u'id': u'1150400021',\n",
      " u'name': u'Complete Care Chiropractic',\n",
      " u'phone': u'(303) 926-1575',\n",
      " u'pos': [39.9873901, -105.1070367],\n",
      " u'type': u'chiropractic'}\n",
      "{u'_id': ObjectId('5983f0125f52466abe71df71'),\n",
      " u'created': {u'changeset': u'20941034',\n",
      "              u'timestamp': u'2014-03-06T00:00:23Z',\n",
      "              u'uid': u'1952288',\n",
      "              u'user': u'jade7800',\n",
      "              u'version': u'1'},\n",
      " u'id': u'2703452118',\n",
      " u'natural': u'tree',\n",
      " u'pos': [40.0075003, -105.2718454],\n",
      " u'type': u'cypress'}\n",
      "{u'_id': ObjectId('5983f0125f52466abe71df72'),\n",
      " u'created': {u'changeset': u'20941034',\n",
      "              u'timestamp': u'2014-03-06T00:00:23Z',\n",
      "              u'uid': u'1952288',\n",
      "              u'user': u'jade7800',\n",
      "              u'version': u'1'},\n",
      " u'id': u'2703452119',\n",
      " u'natural': u'tree',\n",
      " u'pos': [40.0075025, -105.2717635],\n",
      " u'type': u'cypress'}\n",
      "{u'_id': ObjectId('5983f0135f52466abe7217db'),\n",
      " u'created': {u'changeset': u'22958195',\n",
      "              u'timestamp': u'2014-06-16T07:19:03Z',\n",
      "              u'uid': u'495102',\n",
      "              u'user': u'TheNormsk',\n",
      "              u'version': u'1'},\n",
      " u'id': u'2918283978',\n",
      " u'natural': u'tree',\n",
      " u'pos': [39.975534, -105.1436917],\n",
      " u'type': u'conifer'}\n",
      "{u'_id': ObjectId('5983f0135f52466abe7217dc'),\n",
      " u'created': {u'changeset': u'22958195',\n",
      "              u'timestamp': u'2014-06-16T07:19:03Z',\n",
      "              u'uid': u'495102',\n",
      "              u'user': u'TheNormsk',\n",
      "              u'version': u'1'},\n",
      " u'id': u'2918283979',\n",
      " u'natural': u'tree',\n",
      " u'pos': [39.9756275, -105.1434678],\n",
      " u'type': u'conifer'}\n",
      "{u'_id': ObjectId('5983f0135f52466abe7217dd'),\n",
      " u'created': {u'changeset': u'22958195',\n",
      "              u'timestamp': u'2014-06-16T07:19:03Z',\n",
      "              u'uid': u'495102',\n",
      "              u'user': u'TheNormsk',\n",
      "              u'version': u'1'},\n",
      " u'id': u'2918283980',\n",
      " u'natural': u'tree',\n",
      " u'pos': [39.9755186, -105.1433954],\n",
      " u'type': u'broad_leaved'}\n",
      "{u'_id': ObjectId('5983f0135f52466abe7217de'),\n",
      " u'created': {u'changeset': u'22958195',\n",
      "              u'timestamp': u'2014-06-16T07:19:03Z',\n",
      "              u'uid': u'495102',\n",
      "              u'user': u'TheNormsk',\n",
      "              u'version': u'1'},\n",
      " u'id': u'2918283981',\n",
      " u'natural': u'tree',\n",
      " u'pos': [39.9753901, -105.1435415],\n",
      " u'type': u'broad_leaved'}\n",
      "{u'_id': ObjectId('5983f0135f52466abe7217df'),\n",
      " u'created': {u'changeset': u'22958195',\n",
      "              u'timestamp': u'2014-06-16T07:19:03Z',\n",
      "              u'uid': u'495102',\n",
      "              u'user': u'TheNormsk',\n",
      "              u'version': u'1'},\n",
      " u'id': u'2918283982',\n",
      " u'natural': u'tree',\n",
      " u'pos': [39.9754107, -105.1436059],\n",
      " u'type': u'conifer'}\n",
      "{u'_id': ObjectId('5983f0135f52466abe7217e0'),\n",
      " u'created': {u'changeset': u'22958195',\n",
      "              u'timestamp': u'2014-06-16T07:19:03Z',\n",
      "              u'uid': u'495102',\n",
      "              u'user': u'TheNormsk',\n",
      "              u'version': u'1'},\n",
      " u'id': u'2918283983',\n",
      " u'natural': u'tree',\n",
      " u'pos': [39.9754528, -105.1432733],\n",
      " u'type': u'broad_leaved'}\n",
      "{u'_id': ObjectId('5983f0185f52466abe743dee'),\n",
      " u'amenity': u'school',\n",
      " u'created': {u'changeset': u'10024298',\n",
      "              u'timestamp': u'2011-12-03T13:00:06Z',\n",
      "              u'uid': u'92274',\n",
      "              u'user': u'adjuva',\n",
      "              u'version': u'7'},\n",
      " u'grades': u'K-8',\n",
      " u'id': u'34303459',\n",
      " u'name': u'Peak To Peak',\n",
      " u'node_refs': [u'393390663',\n",
      "                u'393390664',\n",
      "                u'419871453',\n",
      "                u'419871422',\n",
      "                u'419869999',\n",
      "                u'393390665',\n",
      "                u'393390666',\n",
      "                u'393390667',\n",
      "                u'393390668',\n",
      "                u'393390669',\n",
      "                u'419868119',\n",
      "                u'393390670',\n",
      "                u'393390671',\n",
      "                u'393390672',\n",
      "                u'393390674',\n",
      "                u'393390675',\n",
      "                u'393390676',\n",
      "                u'393390677',\n",
      "                u'393390678',\n",
      "                u'393390680',\n",
      "                u'393390681',\n",
      "                u'393390682',\n",
      "                u'393390683',\n",
      "                u'393390663'],\n",
      " u'type': u'Charter School'}\n",
      "{u'_id': ObjectId('5983f0185f52466abe743e85'),\n",
      " u'address': {u'city': u'Louisville',\n",
      "              u'postcode': u'80027',\n",
      "              u'state': u'Colorado',\n",
      "              u'street': u'South Boulder Road'},\n",
      " u'building': u'commercial',\n",
      " u'created': {u'changeset': u'10220560',\n",
      "              u'timestamp': u'2011-12-27T22:24:17Z',\n",
      "              u'uid': u'369357',\n",
      "              u'user': u'Berjoh',\n",
      "              u'version': u'7'},\n",
      " u'id': u'35023691',\n",
      " u'node_refs': [u'410798874',\n",
      "                u'410798875',\n",
      "                u'410798876',\n",
      "                u'410798877',\n",
      "                u'410798878',\n",
      "                u'410798879',\n",
      "                u'410798880',\n",
      "                u'410798881',\n",
      "                u'1262109204',\n",
      "                u'410798882',\n",
      "                u'1262109251',\n",
      "                u'410798884',\n",
      "                u'410798874'],\n",
      " u'type': u'retail'}\n",
      "{u'_id': ObjectId('5983f0185f52466abe743e95'),\n",
      " u'address': {u'postcode': u'80026'},\n",
      " u'building': u'yes',\n",
      " u'created': {u'changeset': u'39852464',\n",
      "              u'timestamp': u'2016-06-07T03:12:50Z',\n",
      "              u'uid': u'1778953',\n",
      "              u'user': u'mattchn',\n",
      "              u'version': u'7'},\n",
      " u'id': u'35023964',\n",
      " u'leisure': u'sports_centre',\n",
      " u'name': u'Coal Creek Sports Center',\n",
      " u'node_refs': [u'410801184',\n",
      "                u'410801185',\n",
      "                u'410801186',\n",
      "                u'410801187',\n",
      "                u'410801184'],\n",
      " u'type': u'Bowling Center'}\n",
      "{u'_id': ObjectId('5983f0185f52466abe743e97'),\n",
      " u'address': {u'postcode': u'80026'},\n",
      " u'amenity': u'fast_food',\n",
      " u'building': u'retail',\n",
      " u'created': {u'changeset': u'46267046',\n",
      "              u'timestamp': u'2017-02-21T08:35:42Z',\n",
      "              u'uid': u'1239795',\n",
      "              u'user': u'release_candidate',\n",
      "              u'version': u'7'},\n",
      " u'id': u'35023987',\n",
      " u'name': u'Taco Bell',\n",
      " u'node_refs': [u'410801341',\n",
      "                u'410801342',\n",
      "                u'410801343',\n",
      "                u'410801344',\n",
      "                u'410801341'],\n",
      " u'type': u'Fast Food'}\n",
      "{u'_id': ObjectId('5983f0185f52466abe743ebc'),\n",
      " u'address': {u'city': u'Lafayette',\n",
      "              u'postcode': u'80026',\n",
      "              u'street': u'Public Road'},\n",
      " u'building': u'yes',\n",
      " u'created': {u'changeset': u'39852464',\n",
      "              u'timestamp': u'2016-06-07T03:12:57Z',\n",
      "              u'uid': u'1778953',\n",
      "              u'user': u'mattchn',\n",
      "              u'version': u'6'},\n",
      " u'id': u'35439861',\n",
      " u'name': u'Vitamin Cottage',\n",
      " u'node_refs': [u'415719028',\n",
      "                u'415719030',\n",
      "                u'415719031',\n",
      "                u'415719036',\n",
      "                u'415719028'],\n",
      " u'shop': u'supermarket',\n",
      " u'type': u'Grocery'}\n",
      "{u'_id': ObjectId('5983f0185f52466abe743ed2'),\n",
      " u'access': u'permissive',\n",
      " u'created': {u'changeset': u'25810541',\n",
      "              u'timestamp': u'2014-10-02T13:39:51Z',\n",
      "              u'uid': u'25867',\n",
      "              u'user': u'adamos',\n",
      "              u'version': u'6'},\n",
      " u'id': u'35600501',\n",
      " u'landuse': u'farm',\n",
      " u'name': u'Thomas Open Space',\n",
      " u'node_refs': [u'417245863',\n",
      "                u'1158392478',\n",
      "                u'1158392480',\n",
      "                u'1158392482',\n",
      "                u'417245864',\n",
      "                u'417245865',\n",
      "                u'417245866',\n",
      "                u'417245867',\n",
      "                u'417245868',\n",
      "                u'417245869',\n",
      "                u'417245863'],\n",
      " u'type': u'organic'}\n",
      "{u'_id': ObjectId('5983f0185f52466abe743ff2'),\n",
      " u'address': {u'city': u'Lafayette', u'postcode': u'80026'},\n",
      " u'building': u'yes',\n",
      " u'created': {u'changeset': u'7349531',\n",
      "              u'timestamp': u'2011-02-21T01:14:55Z',\n",
      "              u'uid': u'369357',\n",
      "              u'user': u'Berjoh',\n",
      "              u'version': u'2'},\n",
      " u'id': u'36156853',\n",
      " u'name': u'Auto Zone',\n",
      " u'node_refs': [u'422163373',\n",
      "                u'422163549',\n",
      "                u'422163551',\n",
      "                u'422163370',\n",
      "                u'422163373'],\n",
      " u'type': u'auto_parts'}\n",
      "{u'_id': ObjectId('5983f0185f52466abe74515a'),\n",
      " u'building': u'yes',\n",
      " u'created': {u'changeset': u'8798514',\n",
      "              u'timestamp': u'2011-07-22T15:12:08Z',\n",
      "              u'uid': u'119785',\n",
      "              u'user': u'trekki',\n",
      "              u'version': u'2'},\n",
      " u'id': u'97339420',\n",
      " u'node_refs': [u'1127342803',\n",
      "                u'1127342747',\n",
      "                u'1127342773',\n",
      "                u'1127342785',\n",
      "                u'1127342775',\n",
      "                u'1127342767',\n",
      "                u'418321503',\n",
      "                u'1127342792',\n",
      "                u'1127342793',\n",
      "                u'1127342761',\n",
      "                u'1127342782',\n",
      "                u'1127342803'],\n",
      " u'operator': u'Maridian',\n",
      " u'shop': u'convenience',\n",
      " u'type': u'Liqour Sales'}\n",
      "{u'_id': ObjectId('5983f0185f52466abe745161'),\n",
      " u'building': u'yes',\n",
      " u'created': {u'changeset': u'7138556',\n",
      "              u'timestamp': u'2011-01-30T20:01:54Z',\n",
      "              u'uid': u'70696',\n",
      "              u'user': u'xybot',\n",
      "              u'version': u'2'},\n",
      " u'id': u'97340779',\n",
      " u'node_refs': [u'1127404525',\n",
      "                u'1127404487',\n",
      "                u'1127404547',\n",
      "                u'1127404521',\n",
      "                u'1127404553',\n",
      "                u'1127404545',\n",
      "                u'1127404525'],\n",
      " u'type': u'house'}\n",
      "{u'_id': ObjectId('5983f0185f52466abe745195'),\n",
      " u'address': {u'housenumber': u'175 N.',\n",
      "              u'postcode': u'80027',\n",
      "              u'street': u'96th Street'},\n",
      " u'amenity': u'school',\n",
      " u'building': u'yes',\n",
      " u'created': {u'changeset': u'11195046',\n",
      "              u'timestamp': u'2012-04-05T21:51:30Z',\n",
      "              u'uid': u'369357',\n",
      "              u'user': u'Berjoh',\n",
      "              u'version': u'7'},\n",
      " u'id': u'97655580',\n",
      " u'name': u'Treehouse Learning',\n",
      " u'node_refs': [u'1130578165',\n",
      "                u'1703434463',\n",
      "                u'1703434460',\n",
      "                u'1130578157',\n",
      "                u'1130578147',\n",
      "                u'1130578150',\n",
      "                u'1130578149',\n",
      "                u'1130578143',\n",
      "                u'1130578146',\n",
      "                u'1130578154',\n",
      "                u'1636022989',\n",
      "                u'1130578145',\n",
      "                u'1636022970',\n",
      "                u'1636022979',\n",
      "                u'1130578148',\n",
      "                u'1130578151',\n",
      "                u'1130578153',\n",
      "                u'1130578144',\n",
      "                u'1130578156',\n",
      "                u'1130578152',\n",
      "                u'1130578164',\n",
      "                u'1130578162',\n",
      "                u'1130578163',\n",
      "                u'1130578166',\n",
      "                u'1130578161',\n",
      "                u'1130578159',\n",
      "                u'1130578160',\n",
      "                u'1130578158',\n",
      "                u'1703434465',\n",
      "                u'1130578165'],\n",
      " u'phone': u'303.666.1950',\n",
      " u'type': u'kindergarten'}\n",
      "{u'_id': ObjectId('5983f0195f52466abe7458c2'),\n",
      " u'address': {u'city': u'Louisville',\n",
      "              u'postcode': u'80027',\n",
      "              u'state': u'Colorado',\n",
      "              u'street': u'South Boulder Road'},\n",
      " u'building': u'commercial',\n",
      " u'created': {u'changeset': u'10220560',\n",
      "              u'timestamp': u'2011-12-27T22:24:15Z',\n",
      "              u'uid': u'369357',\n",
      "              u'user': u'Berjoh',\n",
      "              u'version': u'4'},\n",
      " u'id': u'110536136',\n",
      " u'node_refs': [u'1262109251',\n",
      "                u'1262109196',\n",
      "                u'410798952',\n",
      "                u'410798882',\n",
      "                u'1262109251'],\n",
      " u'type': u'retail'}\n",
      "{u'_id': ObjectId('5983f0195f52466abe7460a1'),\n",
      " u'address': {u'city': u'Louisville',\n",
      "              u'postcode': u'80027',\n",
      "              u'state': u'Colorado',\n",
      "              u'street': u'South Boulder Road'},\n",
      " u'amenity': u'fuel',\n",
      " u'building': u'commercial',\n",
      " u'created': {u'changeset': u'10220560',\n",
      "              u'timestamp': u'2011-12-27T22:24:16Z',\n",
      "              u'uid': u'369357',\n",
      "              u'user': u'Berjoh',\n",
      "              u'version': u'3'},\n",
      " u'id': u'137774838',\n",
      " u'name': u'King Soopers Gas',\n",
      " u'node_refs': [u'1510863238',\n",
      "                u'1510863236',\n",
      "                u'1510863237',\n",
      "                u'1510863239',\n",
      "                u'1510863238'],\n",
      " u'opening_hours': u'24/7',\n",
      " u'type': u'retail'}\n",
      "{u'_id': ObjectId('5983f0195f52466abe7460c5'),\n",
      " u'created': {u'changeset': u'11317727',\n",
      "              u'timestamp': u'2012-04-16T02:57:01Z',\n",
      "              u'uid': u'369357',\n",
      "              u'user': u'Berjoh',\n",
      "              u'version': u'3'},\n",
      " u'id': u'139161031',\n",
      " u'landuse': u'residential',\n",
      " u'name': u'Balfour',\n",
      " u'node_refs': [u'417619552',\n",
      "                u'417619555',\n",
      "                u'417619561',\n",
      "                u'1525112591',\n",
      "                u'1525112607',\n",
      "                u'1525112622',\n",
      "                u'1525112602',\n",
      "                u'1525112604',\n",
      "                u'1525112628',\n",
      "                u'1525112608',\n",
      "                u'1525112632',\n",
      "                u'1525112619',\n",
      "                u'1718842411',\n",
      "                u'1718842420',\n",
      "                u'1718842383',\n",
      "                u'1718842385',\n",
      "                u'1718842394',\n",
      "                u'1718842382',\n",
      "                u'417619552'],\n",
      " u'type': u'retirement village'}\n",
      "{u'_id': ObjectId('5983f0195f52466abe7479b9'),\n",
      " u'created': {u'changeset': u'15169077',\n",
      "              u'timestamp': u'2013-02-26T04:23:25Z',\n",
      "              u'uid': u'530223',\n",
      "              u'user': u'ultimateboy',\n",
      "              u'version': u'3'},\n",
      " u'id': u'205316556',\n",
      " u'name': u'Landmark Lofts',\n",
      " u'node_refs': [u'2152932064',\n",
      "                u'2152931864',\n",
      "                u'2152931863',\n",
      "                u'2152931854',\n",
      "                u'2152931855',\n",
      "                u'2169453302',\n",
      "                u'2152931853',\n",
      "                u'2152931852',\n",
      "                u'2152931857',\n",
      "                u'2152931856',\n",
      "                u'2152932066',\n",
      "                u'2152932067',\n",
      "                u'2152932064'],\n",
      " u'site': u'condominium',\n",
      " u'type': u'site'}\n"
     ]
    }
   ],
   "source": [
    "prob = db.boul.find({\"type\":{ \"$nin\": [ \"way\", \"node\" ] }})\n",
    "for i in prob:\n",
    "    pprint.pprint(i)"
   ]
  },
  {
   "cell_type": "markdown",
   "metadata": {},
   "source": [
    "**Number of documents:**"
   ]
  },
  {
   "cell_type": "code",
   "execution_count": 22,
   "metadata": {
    "collapsed": false
   },
   "outputs": [
    {
     "data": {
      "text/plain": [
       "454451"
      ]
     },
     "execution_count": 22,
     "metadata": {},
     "output_type": "execute_result"
    }
   ],
   "source": [
    "db.boul.find().count()                                                "
   ]
  },
  {
   "cell_type": "markdown",
   "metadata": {},
   "source": [
    "**Number of documents:**"
   ]
  },
  {
   "cell_type": "code",
   "execution_count": 22,
   "metadata": {
    "collapsed": false
   },
   "outputs": [
    {
     "data": {
      "text/plain": [
       "454451"
      ]
     },
     "execution_count": 22,
     "metadata": {},
     "output_type": "execute_result"
    }
   ],
   "source": [
    "db.boul.find().count()                                                "
   ]
  },
  {
   "cell_type": "markdown",
   "metadata": {},
   "source": [
    "**Number of documents:**"
   ]
  },
  {
   "cell_type": "code",
   "execution_count": 22,
   "metadata": {
    "collapsed": false
   },
   "outputs": [
    {
     "data": {
      "text/plain": [
       "454451"
      ]
     },
     "execution_count": 22,
     "metadata": {},
     "output_type": "execute_result"
    }
   ],
   "source": [
    "db.boul.find().count()                                                "
   ]
  },
  {
   "cell_type": "markdown",
   "metadata": {},
   "source": [
    "## <a id='section3'>3. Additional Ideas</a>"
   ]
  },
  {
   "cell_type": "code",
   "execution_count": null,
   "metadata": {
    "collapsed": true
   },
   "outputs": [],
   "source": []
  }
 ],
 "metadata": {
  "kernelspec": {
   "display_name": "Python 2",
   "language": "python",
   "name": "python2"
  },
  "language_info": {
   "codemirror_mode": {
    "name": "ipython",
    "version": 2
   },
   "file_extension": ".py",
   "mimetype": "text/x-python",
   "name": "python",
   "nbconvert_exporter": "python",
   "pygments_lexer": "ipython2",
   "version": "2.7.13"
  }
 },
 "nbformat": 4,
 "nbformat_minor": 2
}
