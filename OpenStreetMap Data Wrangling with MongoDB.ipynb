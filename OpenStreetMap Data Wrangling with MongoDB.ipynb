{
 "cells": [
  {
   "cell_type": "markdown",
   "metadata": {},
   "source": [
    "# OpenStreetMap Wrangling with MongoDB\n",
    "\n",
    "### Justin Rogers"
   ]
  },
  {
   "cell_type": "markdown",
   "metadata": {},
   "source": [
    "Map Area: Boulder CO, United States  \n",
    "[Boulder on OpenStreetMaps](http://www.openstreetmap.org/relation/112298)  \n",
    "[Overpass API Link for Boulder](http://overpass-api.de/api/map?bbox=-105.4142,39.9490,-105.0653,40.1099)"
   ]
  },
  {
   "cell_type": "markdown",
   "metadata": {},
   "source": [
    "### [1. Problems Encountered in the Map](#section1)\n",
    "[Street Type Inconsistencies](#section1_1)  \n",
    "[City Name Differences](#section1_2)  \n",
    "[Postal Code Problems](#section1_3)  \n",
    "### [2. Data Overview](#section2)\n",
    "### [3. Additional Ideas](#section3)"
   ]
  },
  {
   "cell_type": "markdown",
   "metadata": {},
   "source": [
    "##  <a id='section1'>1. Problems Encountered in the Map</a>"
   ]
  },
  {
   "cell_type": "markdown",
   "metadata": {},
   "source": [
    "Several problems/inconsistencies were identified in the data:\n",
    "* Street Type Inconsistencies (Avenue, ave, Ave)\n",
    "* City Name Differences (Boulder, Boulder, CO, u'Boulder, CO \\u200e')\n",
    "* Postal Code Problems (80026, 80026-2872, CO 80027)"
   ]
  },
  {
   "cell_type": "markdown",
   "metadata": {},
   "source": [
    "###  <a id='section1_1'>Street Type Inconsistencies</a>\n",
    "Many of the street names had inconsistencies with the street type naming conventions. Before export to JSON, the ends of the street names were remapped for conistency. Ex. St., st, and St. were all changed to Street"
   ]
  },
  {
   "cell_type": "markdown",
   "metadata": {},
   "source": [
    "###  <a id='section1_2'>City Name Differences</a>\n",
    "13 different city names were present in the data, but several were just inconsistent capitilizations or extra data in the field. These fields were mapped to consistent names before conversion to JSON. Ex. Boulder, Co converted to Boulder. Unfortunately, one city name, CO, was not changed as this would require looking up the individual entries to decide in which city the place actually was."
   ]
  },
  {
   "cell_type": "markdown",
   "metadata": {},
   "source": [
    "###  <a id='section1_3'>Postal Code Problems</a>\n",
    "20 different postal codes were indentified in the data. Several had the additional four digits attached to the end with a dash. These extra digits were removed before conversion to JSON. In addition, two entries were prefixed with \"CO \" which was also removed. Unfortunately, one item was simply \"CO\" which was left in for the same reason as under City Name Differences above."
   ]
  },
  {
   "cell_type": "markdown",
   "metadata": {},
   "source": [
    "## <a id='section2'>2. Data Overview</a>"
   ]
  },
  {
   "cell_type": "code",
   "execution_count": 19,
   "metadata": {
    "collapsed": false
   },
   "outputs": [
    {
     "name": "stdout",
     "output_type": "stream",
     "text": [
      "The boulder.osm file is 91.5MB\n",
      "The boulderimport.json file is 101.6MB\n"
     ]
    }
   ],
   "source": [
    "import os\n",
    "print \"The boulder.osm file is %.1fMB\" % (float(os.path.getsize('boulder.osm'))/1000000)\n",
    "print \"The boulderimport.json file is %.1fMB\" % (float(os.path.getsize('boulderimport.json'))/1000000)"
   ]
  },
  {
   "cell_type": "code",
   "execution_count": 20,
   "metadata": {
    "collapsed": true
   },
   "outputs": [],
   "source": [
    "from pymongo import MongoClient\n",
    "import pprint"
   ]
  },
  {
   "cell_type": "markdown",
   "metadata": {},
   "source": [
    "## <a id='section3'>3. Additional Ideas</a>"
   ]
  },
  {
   "cell_type": "code",
   "execution_count": null,
   "metadata": {
    "collapsed": true
   },
   "outputs": [],
   "source": []
  }
 ],
 "metadata": {
  "kernelspec": {
   "display_name": "Python 2",
   "language": "python",
   "name": "python2"
  },
  "language_info": {
   "codemirror_mode": {
    "name": "ipython",
    "version": 2
   },
   "file_extension": ".py",
   "mimetype": "text/x-python",
   "name": "python",
   "nbconvert_exporter": "python",
   "pygments_lexer": "ipython2",
   "version": "2.7.13"
  }
 },
 "nbformat": 4,
 "nbformat_minor": 2
}
