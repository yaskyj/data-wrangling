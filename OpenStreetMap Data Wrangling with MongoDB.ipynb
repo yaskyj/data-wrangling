{
 "cells": [
  {
   "cell_type": "markdown",
   "metadata": {},
   "source": [
    "# OpenStreetMap Wrangling with MongoDB\n",
    "\n",
    "### Justin Rogers"
   ]
  },
  {
   "cell_type": "markdown",
   "metadata": {},
   "source": [
    "Map Area: Boulder CO, United States  \n",
    "[Boulder on OpenStreetMaps](http://www.openstreetmap.org/relation/112298)  \n",
    "[Overpass API Link for Boulder](http://overpass-api.de/api/map?bbox=-105.4142,39.9490,-105.0653,40.1099)"
   ]
  },
  {
   "cell_type": "markdown",
   "metadata": {},
   "source": [
    "### [1. Problems Encountered in the Map](#section1)\n",
    "[Street Type Inconsistencies](#section1_1)  \n",
    "[City Name Differences](#section1_2)  \n",
    "[Postal Code Problems](#section1_3)  \n",
    "### [2. Data Overview](#section2)\n",
    "### [3. Additional Ideas](#section3)\n",
    "[Basic Field Validations on Data Entry](#section3_1)  \n",
    "[Conclusion](#section3_2)  "
   ]
  },
  {
   "cell_type": "markdown",
   "metadata": {},
   "source": [
    "##  <a id='section1'>1. Problems Encountered in the Map</a>"
   ]
  },
  {
   "cell_type": "markdown",
   "metadata": {},
   "source": [
    "Several problems/inconsistencies were identified in the data:\n",
    "* Street Type Inconsistencies (Avenue, ave, Ave)\n",
    "* City Name Differences (Boulder, Boulder, CO, u'Boulder, CO \\u200e')\n",
    "* Postal Code Problems (80026, 80026-2872, CO 80027)"
   ]
  },
  {
   "cell_type": "markdown",
   "metadata": {},
   "source": [
    "###  <a id='section1_1'>Street Type Inconsistencies</a>\n",
    "Many of the street names had inconsistencies with the street type naming conventions. Before export to JSON, the ends of the street names were remapped for conistency. Ex. St., st, and St. were all changed to Street"
   ]
  },
  {
   "cell_type": "markdown",
   "metadata": {},
   "source": [
    "###  <a id='section1_2'>City Name Differences</a>\n",
    "13 different city names were present in the data, but several were just inconsistent capitilizations or extra data in the field. These fields were mapped to consistent names before conversion to JSON. Ex. Boulder, Co converted to Boulder. Unfortunately, one city name, CO, was not changed as this would require looking up the individual entries to decide in which city the place actually was."
   ]
  },
  {
   "cell_type": "markdown",
   "metadata": {},
   "source": [
    "###  <a id='section1_3'>Postal Code Problems</a>\n",
    "20 different postal codes were indentified in the data. Several had the additional four digits attached to the end with a dash. These extra digits were removed before conversion to JSON. In addition, two entries were prefixed with \"CO \" which was also removed. Unfortunately, one item was simply \"CO\" which was left in for the same reason as under City Name Differences above."
   ]
  },
  {
   "cell_type": "markdown",
   "metadata": {},
   "source": [
    "## <a id='section2'>2. Data Overview</a>"
   ]
  },
  {
   "cell_type": "markdown",
   "metadata": {},
   "source": [
    "### Section showing basic dataset statistics and MongoDB queries used\n",
    "#### File sizes"
   ]
  },
  {
   "cell_type": "code",
   "execution_count": 1,
   "metadata": {
    "collapsed": false
   },
   "outputs": [
    {
     "name": "stdout",
     "output_type": "stream",
     "text": [
      "The boulder.osm file is 91.5MB\n",
      "The boulderimport.json file is 101.6MB\n"
     ]
    }
   ],
   "source": [
    "import os\n",
    "print \"The boulder.osm file is %.1fMB\" % (float(os.path.getsize('boulder.osm'))/1000000)\n",
    "print \"The boulderimport.json file is %.1fMB\" % (float(os.path.getsize('boulderimport.json'))/1000000)"
   ]
  },
  {
   "cell_type": "code",
   "execution_count": 2,
   "metadata": {
    "collapsed": true
   },
   "outputs": [],
   "source": [
    "from pymongo import MongoClient\n",
    "import pprint\n",
    "client = MongoClient(\"mongodb://localhost:27017\")\n",
    "db = client.map"
   ]
  },
  {
   "cell_type": "markdown",
   "metadata": {},
   "source": [
    "**Number of documents:**"
   ]
  },
  {
   "cell_type": "code",
   "execution_count": 3,
   "metadata": {
    "collapsed": false
   },
   "outputs": [
    {
     "data": {
      "text/plain": [
       "454451"
      ]
     },
     "execution_count": 3,
     "metadata": {},
     "output_type": "execute_result"
    }
   ],
   "source": [
    "db.boul.find().count()                                                "
   ]
  },
  {
   "cell_type": "markdown",
   "metadata": {},
   "source": [
    "**Number of nodes:**"
   ]
  },
  {
   "cell_type": "code",
   "execution_count": 4,
   "metadata": {
    "collapsed": false
   },
   "outputs": [
    {
     "data": {
      "text/plain": [
       "406583"
      ]
     },
     "execution_count": 4,
     "metadata": {},
     "output_type": "execute_result"
    }
   ],
   "source": [
    "db.boul.find({\"type\":\"node\"}).count()"
   ]
  },
  {
   "cell_type": "markdown",
   "metadata": {},
   "source": [
    "**Number of ways:**"
   ]
  },
  {
   "cell_type": "code",
   "execution_count": 5,
   "metadata": {
    "collapsed": false
   },
   "outputs": [
    {
     "data": {
      "text/plain": [
       "47868"
      ]
     },
     "execution_count": 5,
     "metadata": {},
     "output_type": "execute_result"
    }
   ],
   "source": [
    "db.boul.find({\"type\":\"way\"}).count()"
   ]
  },
  {
   "cell_type": "markdown",
   "metadata": {},
   "source": [
    "**Number of unique users:**"
   ]
  },
  {
   "cell_type": "code",
   "execution_count": 6,
   "metadata": {
    "collapsed": false
   },
   "outputs": [
    {
     "data": {
      "text/plain": [
       "657"
      ]
     },
     "execution_count": 6,
     "metadata": {},
     "output_type": "execute_result"
    }
   ],
   "source": [
    "len(db.boul.find().distinct(\"created.user\"))"
   ]
  },
  {
   "cell_type": "markdown",
   "metadata": {},
   "source": [
    "**Number of Top Contributor:**"
   ]
  },
  {
   "cell_type": "code",
   "execution_count": 7,
   "metadata": {
    "collapsed": false
   },
   "outputs": [
    {
     "name": "stdout",
     "output_type": "stream",
     "text": [
      "[{u'count': 78482, u'_id': u'Berjoh'}]\n"
     ]
    }
   ],
   "source": [
    "top = db.boul.aggregate([{\"$group\":{\"_id\":\"$created.user\", \"count\":{\"$sum\":1}}}, {\"$sort\":{\"count\":-1}}, {\"$limit\":1}])\n",
    "print list(top)"
   ]
  },
  {
   "cell_type": "markdown",
   "metadata": {},
   "source": [
    "**Top Ten Amenities:**"
   ]
  },
  {
   "cell_type": "code",
   "execution_count": 8,
   "metadata": {
    "collapsed": false
   },
   "outputs": [
    {
     "name": "stdout",
     "output_type": "stream",
     "text": [
      "{u'count': 1161, u'_id': u'parking'}\n",
      "{u'count': 648, u'_id': u'bicycle_parking'}\n",
      "{u'count': 223, u'_id': u'restaurant'}\n",
      "{u'count': 174, u'_id': u'bench'}\n",
      "{u'count': 104, u'_id': u'fast_food'}\n",
      "{u'count': 99, u'_id': u'cafe'}\n",
      "{u'count': 99, u'_id': u'school'}\n",
      "{u'count': 74, u'_id': u'place_of_worship'}\n",
      "{u'count': 56, u'_id': u'bank'}\n",
      "{u'count': 48, u'_id': u'fuel'}\n"
     ]
    }
   ],
   "source": [
    "amenity = db.boul.aggregate([{\"$match\": {\"amenity\": {\"$exists\": True}}}, {\"$group\":{\"_id\":\"$amenity\", \"count\":{\"$sum\":1}}}, {\"$sort\":{\"count\":-1}}, {\"$limit\":10}])\n",
    "for i in list(amenity):\n",
    "    print i"
   ]
  },
  {
   "cell_type": "markdown",
   "metadata": {},
   "source": [
    "## <a id='section3'>3. Additional Ideas</a>"
   ]
  },
  {
   "cell_type": "markdown",
   "metadata": {},
   "source": [
    "### <a id='section3_1'>Basic Field Validation on Data Entry</a>  \n",
    "Most programs have basic field validations to improve the quality of data being input into the system. Some of the problems in the data could be fixed during entry just by having formatting masks (e.g only allowing five integers in zip codes) and performing check routines (e.g. are those gps coordinates in or near the zip code being tagged)."
   ]
  },
  {
   "cell_type": "markdown",
   "metadata": {},
   "source": [
    "### <a id='section3_2'>Conclusion</a>  \n",
    "While a remarkable amount of data gets entered into OpenStreetMap, programmatic and manual cleaning after the data has been entered should be secondary to robust data validation upon entry. The data reviewed was fairly clean, but there appears to be a number of small anomalies (e.g. 'CO' being entered as a postcode, Unicode characters being added to fields). While looking at a small set of data these problems are easily identified, as the dataset reviewed grows manual corrections and small cleaning routines are not able to keep up with the lack of consistency. "
   ]
  }
 ],
 "metadata": {
  "kernelspec": {
   "display_name": "Python 2",
   "language": "python",
   "name": "python2"
  },
  "language_info": {
   "codemirror_mode": {
    "name": "ipython",
    "version": 2
   },
   "file_extension": ".py",
   "mimetype": "text/x-python",
   "name": "python",
   "nbconvert_exporter": "python",
   "pygments_lexer": "ipython2",
   "version": "2.7.13"
  }
 },
 "nbformat": 4,
 "nbformat_minor": 2
}
